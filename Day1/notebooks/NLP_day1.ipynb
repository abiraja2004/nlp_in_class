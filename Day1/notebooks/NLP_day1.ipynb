{
 "cells": [
  {
   "cell_type": "markdown",
   "metadata": {
    "slideshow": {
     "slide_type": "slide"
    }
   },
   "source": [
    "<h1 align=\"center\"> Natural Language Processing </h1>"
   ]
  },
  {
   "cell_type": "markdown",
   "metadata": {
    "slideshow": {
     "slide_type": "slide"
    }
   },
   "source": [
    "<img src=\"../images/img1.jpg\" alt=\"img1\" style=\"width: 400px\"/>"
   ]
  },
  {
   "cell_type": "markdown",
   "metadata": {
    "collapsed": true
   },
   "source": [
    "## Program so far \n",
    "***\n",
    "\n",
    "* Python\n",
    "* Statistics\n",
    "* Supervised Machine Learning\n",
    "* Unsupervised Machine Learning"
   ]
  },
  {
   "cell_type": "markdown",
   "metadata": {
    "collapsed": true
   },
   "source": [
    "## Agenda for NLP\n",
    "***\n",
    "* Get awesome in NLP"
   ]
  },
  {
   "cell_type": "markdown",
   "metadata": {
    "collapsed": true
   },
   "source": [
    "## But Seriously, Agenda for the Day\n",
    "***\n",
    "Learn how to leverage machine learning techniques we have learnt so far to analyze Natural Languages. We are going to cover techniques like:\n",
    "\n",
    "1.  Sentence Splitter\n",
    "-  Tokenization\n",
    "-  POS (part of speech tagging)\n",
    "-  Stop-word Removal\n",
    "-  Stemming\n",
    "-  Lemmatization\n",
    "-  Chunking\n",
    "-  Deep Parsing\n",
    "-  Word Cloud\n",
    "-  TF-IDF"
   ]
  },
  {
   "cell_type": "markdown",
   "metadata": {},
   "source": [
    "## What is NLP Anyway\n",
    "\n",
    "Well, Wikipedia quotes:\n",
    "\n",
    ">Natural language processing (NLP) is a field of computer science, artificial intelligence and computational linguistics concerned with the interactions between computers and human (natural) languages, and, in particular, concerned with programming computers to fruitfully process large natural language corpora. "
   ]
  },
  {
   "cell_type": "markdown",
   "metadata": {},
   "source": [
    "## What is NLP Anyway\n",
    "\n",
    "Human language is highly ambiguous… It is also ever changing and evolving. People are great at producing language and understanding language, and are capable of expressing, perceiving, and interpreting very elaborate and nuanced meanings. At the same time, while we humans are great users of language, we are also very poor at formally understanding and describing the rules that govern language.\n",
    "\n",
    "NLP is an ongoing attempt to capture those structures and rules."
   ]
  },
  {
   "cell_type": "markdown",
   "metadata": {},
   "source": [
    "## NLP NLP Everywhere\n",
    "\n",
    "[Lifewire](https://www.lifewire.com/applications-of-natural-language-processing-technology-2495544) has an elaborate article on the applications of NLP. NLP is being used extensively in areas you can and can't imagine. Some examples are:\n",
    "\n",
    "1. Spam detections\n",
    "2. Chat bots\n",
    "- Recommender systems\n",
    "3. Sentiment analysis\n",
    "4. Information extraction\n",
    "5. And many more"
   ]
  },
  {
   "cell_type": "markdown",
   "metadata": {},
   "source": [
    "So let's start our journey with NLP. Here is an interesting challenge we are going to tackle.\n",
    "\n",
    "We are going to work with data called `Reuter_50_50 Data Set`. It is a combination of 50 datasets. Each dataset is named after an author's name and each dataset contains 50 articles from the respective author. "
   ]
  },
  {
   "cell_type": "markdown",
   "metadata": {},
   "source": [
    "The problem that we are going to attempt is to use this data is to predict the author given an unknown article. Seems interesting, isn't it? Well, it is. \n",
    "\n",
    "Generally, as writers, we all follow certain style; things like kind of words we use, length of the sentences we write, how do we use punctuations etc. We are going to use these to predict the author."
   ]
  },
  {
   "cell_type": "markdown",
   "metadata": {},
   "source": [
    "Let's start by importing the docs."
   ]
  },
  {
   "cell_type": "code",
   "execution_count": 1,
   "metadata": {
    "scrolled": true
   },
   "outputs": [
    {
     "data": {
      "text/plain": [
       "['RobinSidel',\n",
       " 'LynnleyBrowning',\n",
       " 'KouroshKarimkhany',\n",
       " 'MichaelConnor',\n",
       " 'JoeOrtiz',\n",
       " 'EricAuchard',\n",
       " 'AaronPressman',\n",
       " 'SimonCowell',\n",
       " \"LynneO'Donnell\",\n",
       " 'EdnaFernandes',\n",
       " 'KevinMorrison',\n",
       " 'SamuelPerry',\n",
       " 'PatriciaCommins',\n",
       " 'JohnMastrini',\n",
       " 'JanLopatka',\n",
       " 'KevinDrawbaugh',\n",
       " 'KarlPenhaul',\n",
       " 'MartinWolk',\n",
       " 'ScottHillis',\n",
       " 'DavidLawder',\n",
       " 'FumikoFujisaki',\n",
       " 'MarcelMichelson',\n",
       " 'NickLouth',\n",
       " 'DarrenSchuettler',\n",
       " 'WilliamKazer',\n",
       " 'TanEeLyn',\n",
       " 'PierreTran',\n",
       " 'HeatherScoffield',\n",
       " 'MureDickie',\n",
       " 'RogerFillion',\n",
       " 'JimGilchrist',\n",
       " 'BradDorfman',\n",
       " 'AlanCrosby',\n",
       " 'JonathanBirt',\n",
       " 'BenjaminKangLim',\n",
       " 'TheresePoletti',\n",
       " 'KeithWeir',\n",
       " 'JoWinterbottom',\n",
       " 'MarkBendeich',\n",
       " 'JaneMacartney',\n",
       " 'MatthewBunce',\n",
       " 'ToddNissen',\n",
       " 'PeterHumphrey',\n",
       " 'TimFarrand',\n",
       " 'SarahDavison',\n",
       " 'GrahamEarnshaw',\n",
       " 'BernardHickey',\n",
       " 'KirstinRidley',\n",
       " 'AlexanderSmith',\n",
       " 'LydiaZajc']"
      ]
     },
     "execution_count": 1,
     "metadata": {},
     "output_type": "execute_result"
    }
   ],
   "source": [
    "import os\n",
    "os.listdir(\"../data/C50train\")"
   ]
  },
  {
   "cell_type": "code",
   "execution_count": 2,
   "metadata": {},
   "outputs": [
    {
     "data": {
      "text/plain": [
       "'A break-in at the U.S. Justice Department\\'s World Wide Web site last week highlighted the Internet\\'s continued vulnerability to hackers.\\nUnidentified hackers gained access to the department\\'s web page on August 16 and replaced it with a hate-filled diatribe labelled the \"Department of Injustice\" that included a swastika and a picture of Adolf Hitler.\\nJustice officials quickly pulled the plug on the vandalised page, but the security flaws that allowed hackers to gain entry likely exist in thousands of other corporate and government web sites, security experts said.\\n\"The vast majority of sites are vulnerable,\" said Richard Power, senior analyst at the Computer Security Institute. \"The Justice Department shouldn\\'t be singled out.\"\\nJustice Department officials said the compromised web site was not connected to any computers containing sensitive files. The web site (http://www.usdoj.gov) included copies of press releases, speeches and other publicly available information.\\nThe security breach \"is just like graffiti on the outside of the building,\" spokesman Bert Brandenburg said.\\nOther organisations have been targeted in the past. Last year, the Nation of Islam\\'s Million Man March web site was vandalised. And hackers make 250,000 attempts annually to break into U.S. military computers, according to a General Accounting Office report.\\nWindows Magazine recently found security flaws at web sites of a dozen major corporations. \"The web is spectacularly insecure,\" editor Mike Elgan said. Relying on security holes that had been documented by software manufacturers months earlier, the magazine\\'s specialists were able to gain various degrees of unauthorised access at the different sites.\\nElgan said hackers who are exploiting some of the same flaws are motivated by anger over the growth and commercialization of the Internet. \"A common theme is that hackers are fed up with non-hackers on the Internet,\" he said.\\nThe battle is not completely hopeless. \"You can secure a web site,\" Richard Power said. \"There\\'s all kinds of measures you can take. Most corporations and institutions don\\'t take them simply because nothing bad has happened to them yet.\"\\nSome sites are using multiple layers of security, well beyond simple password protection, to keep hackers out.\\nOne site mentioned by Windows Magazine was Fidelity Investments. Fidelity\\'s site advertises its mutual funds and disseminates information about personal finance but does not contain confidential customer information.\\nFidelity officials immediately closed the loophole identified by the magazine, a spokeswoman said. But multiple security measures previously in place would have prevented a security breach despite the hole, the spokeswoman added.\\n'"
      ]
     },
     "execution_count": 2,
     "metadata": {},
     "output_type": "execute_result"
    }
   ],
   "source": [
    "#Lets look into of the article by one of the author and experiment with some NLP tasks\n",
    "f = open(\"../data/C50train/AaronPressman/2537newsML.txt\")\n",
    "f.read()"
   ]
  },
  {
   "cell_type": "markdown",
   "metadata": {},
   "source": [
    "## We told you so!\n",
    "***\n",
    "\n",
    "Now the question is what to do with all the text we have got? One way is to feed the text as a feature to a ML algorithm and try to predict the target variable.\n",
    "\n",
    "But that would be known as **Supreme Overfitting**. Can you explain why?\n",
    "\n",
    "Remember **Feature Engineering** session of your machine learning module? We told you: \"This is one of the most important aspect of ML problem solving.\" Now you'll understand why."
   ]
  },
  {
   "cell_type": "markdown",
   "metadata": {},
   "source": [
    "## NLP and Feature engineering:\n",
    "\n",
    "Much of NLP falls under the domain of feature engineering and feature selection. The idea is to take the raw text and turn into something which can be utilized by a ML algorithm to carry out prediction.\n",
    "\n",
    "So the question is how to do feature engineering on text."
   ]
  },
  {
   "cell_type": "markdown",
   "metadata": {},
   "source": [
    "<img src=\"../images/img2.png\" alt=\"img2\" style=\"width: 400px\"/>"
   ]
  },
  {
   "cell_type": "markdown",
   "metadata": {},
   "source": [
    "## Sentence Segmentation\n",
    "\n",
    "The first level of conquering we will do is by breaking the articles into sentences. \n",
    "\n",
    "Often we have to do analysis at sentences level. For example, let's say in this problem we want to check **number of sentences in an article** and **number of words in a sentence**. Or we want to see how many times an author uses **punctuations in a sentence**. Even specific things like **how many capital letters he uses in a sentence.** We can think of an infinite features."
   ]
  },
  {
   "cell_type": "markdown",
   "metadata": {},
   "source": [
    "## Sentence Segmentation\n",
    "\n",
    "It might look simple to split text by a period(.), but we often use period within text as well e.g. Mr. Modi. There are many other variations that could be there for which we have account for. For example, question marks (?), exclamations (!) and so on.\n",
    "\n",
    "This could get cumbersome. Thankfully there is a python library called **`NLTK`** which specializes in all sorts of NLP operations. For example, NLTK comes with a trained model to do sentence segmentation. We will discover many others  along the way. But for now, let's start with importing the library."
   ]
  },
  {
   "cell_type": "code",
   "execution_count": 3,
   "metadata": {},
   "outputs": [
    {
     "name": "stdout",
     "output_type": "stream",
     "text": [
      "A break-in at the U.S. Justice Department's World Wide Web site last week highlighted the Internet's continued vulnerability to hackers.\n",
      "Unidentified hackers gained access to the department's web page on August 16 and replaced it with a hate-filled diatribe labelled the \"Department of Injustice\" that included a swastika and a picture of Adolf Hitler.\n",
      "Justice officials quickly pulled the plug on the vandalised page, but the security flaws that allowed hackers to gain entry likely exist in thousands of other corporate and government web sites, security experts said.\n",
      "\"The vast majority of sites are vulnerable,\" said Richard Power, senior analyst at the Computer Security Institute.\n",
      "\"The Justice Department shouldn't be singled out.\"\n"
     ]
    }
   ],
   "source": [
    "#NLTK is famous package in python for carry out NLP tasks. Though there are other options also available such as Spacy, TextBlob etc\n",
    "import nltk\n",
    "\n",
    "text=open(\"../data/C50train/AaronPressman/2537newsML.txt\").read()\n",
    "sents = nltk.sent_tokenize(text)  ## Easy sentence tokenization\n",
    "print(\"\\n\".join(sents[:5]))"
   ]
  },
  {
   "cell_type": "markdown",
   "metadata": {},
   "source": [
    "## Tokenization\n",
    "\n",
    "Next, We tokenize. Tokenization breaks unstructured data, text, into chunks of information which can be counted as discrete elements.\n",
    "This immediately turns an unstructured string (text document) into a more usable data, which can  be further structured,and made more suitable for machine learning."
   ]
  },
  {
   "cell_type": "markdown",
   "metadata": {},
   "source": [
    "## Tokenization\n",
    "\n",
    "-  Tokenization segments a document into its atomic elements (tokens). Tokens are generally split by space or punctuations.\n",
    "-  Typically, tokens are the words.\n",
    "-  Sometimes, based over our application, we can treat punctuations as tokens as well. For example, for author identification we want to have a feature, <i>number of punctuations<i>.\n",
    "-  Number of tokens in a sentence can be used as a feature.\n",
    "-  Kind of tokens(words) used in text itself can be a feature. For example, some author may use word basically, additionally etc. "
   ]
  },
  {
   "cell_type": "markdown",
   "metadata": {},
   "source": [
    "Let's employ a simple tokenizer which will match any word characters until it reaches a non-word character, like white a space"
   ]
  },
  {
   "cell_type": "code",
   "execution_count": 4,
   "metadata": {},
   "outputs": [
    {
     "data": {
      "text/plain": [
       "['A',\n",
       " 'break',\n",
       " 'in',\n",
       " 'at',\n",
       " 'the',\n",
       " 'U',\n",
       " 'S',\n",
       " 'Justice',\n",
       " 'Department',\n",
       " 's',\n",
       " 'World',\n",
       " 'Wide',\n",
       " 'Web',\n",
       " 'site',\n",
       " 'last',\n",
       " 'week',\n",
       " 'highlighted',\n",
       " 'the',\n",
       " 'Internet',\n",
       " 's',\n",
       " 'continued',\n",
       " 'vulnerability',\n",
       " 'to',\n",
       " 'hackers']"
      ]
     },
     "execution_count": 4,
     "metadata": {},
     "output_type": "execute_result"
    }
   ],
   "source": [
    "from nltk.tokenize import RegexpTokenizer\n",
    "tokenizer = RegexpTokenizer(r'\\w+')\n",
    "tokenizer.tokenize(sents[0])"
   ]
  },
  {
   "cell_type": "markdown",
   "metadata": {},
   "source": [
    "- As you can see,this can cause problems for words like don’t which will be read as two tokens - don and t.\n",
    "- There are better tokenisers available like `TreeBankWordTokenizer` which would break words like don't into do and n't\n",
    "- NLTK provides a number of pre-constructed tokenizers. Let's see one of those."
   ]
  },
  {
   "cell_type": "code",
   "execution_count": 8,
   "metadata": {},
   "outputs": [
    {
     "name": "stdout",
     "output_type": "stream",
     "text": [
      "['A', 'break-in', 'at', 'the', 'U.S.', 'Justice', 'Department', \"'s\", 'World', 'Wide', 'Web', 'site', 'last', 'week', 'highlighted', 'the', 'Internet', \"'s\", 'continued', 'vulnerability', 'to', 'hackers', '.']\n"
     ]
    }
   ],
   "source": [
    "from nltk import word_tokenize\n",
    "tokens = word_tokenize(sents[0])\n",
    "print tokens"
   ]
  },
  {
   "cell_type": "markdown",
   "metadata": {},
   "source": [
    "## StopWords\n",
    "\n",
    "Consider words like a, an, the, be etc. These words don't add any extra information in a sentence. Such words can often create noise while modeling. Such words are known as **Stop Words**.\n",
    "\n",
    "Generally there is a standard list of stop words and that list is also included within the NLTK. However, it also comes with a lot of corpora (a corpus is specialized knowldege for a specific domain/problem. e.g. gender names, location names, or author notes), Which are useful in special cases. We need to download these corpus explicitly along with nltk. This can be done through `nltk.download()` "
   ]
  },
  {
   "cell_type": "code",
   "execution_count": 6,
   "metadata": {},
   "outputs": [
    {
     "name": "stdout",
     "output_type": "stream",
     "text": [
      "set([u'all', u'just', u'being', u'over', u'both', u'through', u'yourselves', u'its', u'before', u'o', u'hadn', u'herself', u'll', u'had', u'should', u'to', u'only', u'won', u'under', u'ours', u'has', u'do', u'them', u'his', u'very', u'they', u'not', u'during', u'now', u'him', u'nor', u'd', u'did', u'didn', u'this', u'she', u'each', u'further', u'where', u'few', u'because', u'doing', u'some', u'hasn', u'are', u'our', u'ourselves', u'out', u'what', u'for', u'while', u're', u'does', u'above', u'between', u'mustn', u't', u'be', u'we', u'who', u'were', u'here', u'shouldn', u'hers', u'by', u'on', u'about', u'couldn', u'of', u'against', u's', u'isn', u'or', u'own', u'into', u'yourself', u'down', u'mightn', u'wasn', u'your', u'from', u'her', u'their', u'aren', u'there', u'been', u'whom', u'too', u'wouldn', u'themselves', u'weren', u'was', u'until', u'more', u'himself', u'that', u'but', u'don', u'with', u'than', u'those', u'he', u'me', u'myself', u'ma', u'these', u'up', u'will', u'below', u'ain', u'can', u'theirs', u'my', u'and', u've', u'then', u'is', u'am', u'it', u'doesn', u'an', u'as', u'itself', u'at', u'have', u'in', u'any', u'if', u'again', u'no', u'when', u'same', u'how', u'other', u'which', u'you', u'shan', u'needn', u'haven', u'after', u'most', u'such', u'why', u'a', u'off', u'i', u'm', u'yours', u'so', u'y', u'the', u'having', u'once'])\n"
     ]
    }
   ],
   "source": [
    "from nltk.corpus import stopwords\n",
    "stop_words=set(stopwords.words('english'))\n",
    "print stop_words"
   ]
  },
  {
   "cell_type": "code",
   "execution_count": 12,
   "metadata": {},
   "outputs": [
    {
     "name": "stdout",
     "output_type": "stream",
     "text": [
      "['A', 'break-in', 'at', 'the', 'U.S.', 'Justice', 'Department', \"'s\", 'World', 'Wide', 'Web', 'site', 'last', 'week', 'highlighted', 'the', 'Internet', \"'s\", 'continued', 'vulnerability', 'to', 'hackers', '.']\n",
      "=================================================================================\n",
      "['A', 'break-in', 'U.S.', 'Justice', 'Department', \"'s\", 'World', 'Wide', 'Web', 'site', 'last', 'week', 'highlighted', 'Internet', \"'s\", 'continued', 'vulnerability', 'hackers', '.']\n"
     ]
    }
   ],
   "source": [
    "filtered_sentence = [w for w in tokens if not w in stop_words]\n",
    "filtered_sentence = []\n",
    "\n",
    "for w in tokens:\n",
    "    if w not in stop_words:\n",
    "        filtered_sentence.append(w)\n",
    "\n",
    "print(tokens)\n",
    "print\"=================================================================================\"\n",
    "print(filtered_sentence)"
   ]
  },
  {
   "cell_type": "markdown",
   "metadata": {},
   "source": [
    "-  More often than not, Stop-Words are removed before building models.\n",
    "-  However, sometimes we even uses stop words as a feature as well. For example, in author identification, number of stop words can be used as a feature."
   ]
  },
  {
   "cell_type": "markdown",
   "metadata": {},
   "source": [
    "## Stemming And Lemmatization"
   ]
  },
  {
   "cell_type": "markdown",
   "metadata": {},
   "source": [
    "Consider following words: Copy, copied, copying. \n",
    "\n",
    "Although they represent the same meaning, if not treated, our model might treat them differently. So we tend to strip such words to their core. We can do that by stemming or lemmatisation."
   ]
  },
  {
   "cell_type": "markdown",
   "metadata": {},
   "source": [
    "Stemming and Lemmatization are the basic text processing methods for English text. The goal of both stemming and lemmatization is to reduce inflectional forms and sometimes derivationally related forms of a word to a common base form. \n",
    "\n",
    "-  Stemming helps to create groups of words which have similar meanings.\n",
    "-  Stemming works based over set of rules, such as remove ing if words is ending with ing.\n",
    "-  There are a number of Stemmers available with different set of rules. PorterStemmer, LancasterStemmer, SnowballStemmer etc are example of stemmers and are available in NLTK."
   ]
  },
  {
   "cell_type": "code",
   "execution_count": 14,
   "metadata": {},
   "outputs": [
    {
     "data": {
      "text/plain": [
       "u'cri'"
      ]
     },
     "execution_count": 14,
     "metadata": {},
     "output_type": "execute_result"
    }
   ],
   "source": [
    "#-----PorterStemmer------\n",
    "from nltk.stem.porter import PorterStemmer\n",
    "porter_stemmer = PorterStemmer()\n",
    "porter_stemmer.stem(\"crying\")\n"
   ]
  },
  {
   "cell_type": "code",
   "execution_count": 15,
   "metadata": {},
   "outputs": [
    {
     "data": {
      "text/plain": [
       "'cry'"
      ]
     },
     "execution_count": 15,
     "metadata": {},
     "output_type": "execute_result"
    }
   ],
   "source": [
    "#-----LancasterStemmer------\n",
    "from nltk.stem.lancaster import LancasterStemmer\n",
    "lancaster_stemmer = LancasterStemmer()\n",
    "lancaster_stemmer.stem(\"crying\")"
   ]
  },
  {
   "cell_type": "code",
   "execution_count": 16,
   "metadata": {},
   "outputs": [
    {
     "data": {
      "text/plain": [
       "u'cri'"
      ]
     },
     "execution_count": 16,
     "metadata": {},
     "output_type": "execute_result"
    }
   ],
   "source": [
    "#-----SnowballStemmer------\n",
    "from nltk.stem import SnowballStemmer\n",
    "snowball_stemmer = SnowballStemmer(\"english\")\n",
    "snowball_stemmer.stem(\"crying\")"
   ]
  },
  {
   "cell_type": "markdown",
   "metadata": {},
   "source": [
    "**Lemmatization** is closely related to Stemming, but difference is lemmatization uses a knowledgebase called WordNet. Because of knowledge, lemmatization can even convert words which are different and cant be solved by stemmers, such as **converting went into go**. The NLTK Lemmatization method is based on WordNet’s built-in morphy function."
   ]
  },
  {
   "cell_type": "code",
   "execution_count": 19,
   "metadata": {},
   "outputs": [
    {
     "data": {
      "text/plain": [
       "u'go'"
      ]
     },
     "execution_count": 19,
     "metadata": {},
     "output_type": "execute_result"
    }
   ],
   "source": [
    "from nltk.stem import WordNetLemmatizer\n",
    "wordnet_lemmatizer = WordNetLemmatizer()\n",
    "wordnet_lemmatizer.lemmatize(\"went\", pos=\"v\")"
   ]
  },
  {
   "cell_type": "markdown",
   "metadata": {},
   "source": [
    "## Word Cloud\n",
    "\n",
    "Word CLoud is the EDA equivalent for NLP. Word cloud helps us understand how different words are distributed across the documents. The most occurring words will have larger sizes. "
   ]
  },
  {
   "cell_type": "code",
   "execution_count": 22,
   "metadata": {},
   "outputs": [
    {
     "data": {
      "text/plain": [
       "(-0.5, 399.5, 199.5, -0.5)"
      ]
     },
     "execution_count": 22,
     "metadata": {},
     "output_type": "execute_result"
    },
    {
     "data": {
      "image/png": "[encoded data removed]",
      "text/plain": [
       "<matplotlib.figure.Figure at 0x11205b2d0>"
      ]
     },
     "metadata": {},
     "output_type": "display_data"
    }
   ],
   "source": [
    "textall = \" \".join(sents)\n",
    "from wordcloud import WordCloud\n",
    "import matplotlib.pyplot as plt\n",
    "%matplotlib inline\n",
    "\n",
    "wordcloud = WordCloud().generate(textall)\n",
    "plt.figure(figsize=(10, 8))\n",
    "plt.imshow(wordcloud, interpolation='bilinear')\n",
    "plt.axis(\"off\")"
   ]
  },
  {
   "cell_type": "markdown",
   "metadata": {},
   "source": [
    "As can be seen, this particular word could strongly suggests that the article is likely to be about cyber security. Plotting and observing a word cloud could unlock potential features and can also avoid pitfalls. For examples, if you see a certain words which should be treated as stop words occurring a lot, then you can take care of them."
   ]
  },
  {
   "cell_type": "markdown",
   "metadata": {},
   "source": [
    "## Implementations Of NLP Applications\n",
    "***\n",
    "\n",
    "Good! What we have learnt so far is the foundation for different types of analysis that can be carried out. The tokens we have created so far can be utilized as needed. Mainly there are 4 kinds different techniques which branch out from here.\n",
    "\n",
    "1. **Regular Expressions Based System:** \n",
    "    - Such as Extracting Dates, Hyperlinks etc.\n",
    "    - These are mostly rule based and mostly used as features for rest of the techniques\n",
    "2. **Machine Learning Based System.** \n",
    "    - Text classification or Clustering or Recommender Systems.\n",
    "    - These techniques use the tokens as features, further refine them to create features of them\n",
    "    - Include \n",
    "2. **Linguistics based system/Rule Based System.** \n",
    "    - Such as POS tagging\n",
    "    - Attempts to understand underlying structure of the statements\n",
    "- **Dictionary lookup based system** \n",
    "    - Such Information Reterieval, or Identifying entites from wikipedia.\n",
    "    - Used to retrieve structured information from unstructured documents\n",
    "    - Creating summaries of given documents\n",
    "\n",
    "Next we are going to look into Machine Learning based NLP applications, wherein we are going to use Sklearn to build a classifier."
   ]
  },
  {
   "cell_type": "markdown",
   "metadata": {},
   "source": [
    "## Text Preprocessing using `sklearn`:\n",
    "\n",
    "\n",
    "### Bag-of-Words Approach:\n",
    "\n",
    "\n",
    "One way to use tokenized words is to create bag of words (tokens) for each observation and find out the frequency of occurring of each token. The underlying assumption is that the article or document will use tokens which are important much more frequently than others. \n",
    "\n",
    "For example, in the word cloud that we saw, since the article seemed to about cyber security, related terms were used more frequently. So if in an article, food related words are used frequently, it can inferred that the article is about food.\n",
    "\n",
    "Note: Considering this, it would make much more sense to remove stopwords, otherwise they will clutter the actual tokens."
   ]
  },
  {
   "cell_type": "markdown",
   "metadata": {},
   "source": [
    "We use this fact, and count the frequency of each term used in an article. We also put together all the tokens in all the documents combined along with their frequency. We call this **The Dictionary of tokens**. Consider the following example from [Machine Learning Mastery Blog](https://machinelearningmastery.com/gentle-introduction-bag-words-model/). Lines from a tale of two cities.\n",
    "\n",
    "    It was the best of times,\n",
    "    it was the worst of times,\n",
    "    it was the age of wisdom,\n",
    "    it was the age of foolishness,"
   ]
  },
  {
   "cell_type": "markdown",
   "metadata": {},
   "source": [
    "Frequency doc for the first line would look something like:\n",
    "\n",
    "* “it” = 1\n",
    "* “was” = 1\n",
    "* “the” = 1\n",
    "* “best” = 1\n",
    "* “of” = 1\n",
    "* “times” = 1\n",
    "* “worst” = 0\n",
    "* “age” = 0\n",
    "* “wisdom” = 0\n",
    "* “foolishness” = 0"
   ]
  },
  {
   "cell_type": "markdown",
   "metadata": {},
   "source": [
    "To make this more usable, we convert these frequency tables into vectors: [1, 1, 1, 1, 1, 1, 0, 0, 0, 0]\n",
    "\n",
    "Frequency table for the rest of the lines are:\n",
    "\n",
    "* \"it was the worst of times\" = [1, 1, 1, 0, 1, 1, 1, 0, 0, 0]\n",
    "* \"it was the age of wisdom\" = [1, 1, 1, 0, 1, 0, 0, 1, 1, 0]\n",
    "* \"it was the age of foolishness\" = [1, 1, 1, 0, 1, 0, 0, 1, 0, 1]"
   ]
  },
  {
   "cell_type": "markdown",
   "metadata": {},
   "source": [
    "A more sophisticated approach is to also create a vocabulary of grouped words. This both changes the scope of the vocabulary and allows the bag-of-words to capture a little bit more meaning from the document.\n",
    "\n",
    "In this approach, each word or token is called a “gram”. Creating a vocabulary of two-word pairs is, in turn, called a bigram model. Again, only the bigrams that appear in the corpus are modeled, not all possible bigrams\n",
    "\n",
    "For example, the bigrams in the first line of text in the previous section: “It was the best of times” are as follows:\n",
    "\n",
    "* “it was”\n",
    "* “was the”\n",
    "* “the best”\n",
    "* “best of”\n",
    "* “of times”"
   ]
  },
  {
   "cell_type": "markdown",
   "metadata": {},
   "source": [
    "This process of converting NLP text into numbers in called **vectorization** in ML. And there are multiple ways to convert text into vectors.\n",
    "\n",
    "* **Counts.** Count the number of times each word appears in a document.\n",
    "* **Frequencies.** Calculate the frequency that each word appears in a document out of all the words in the document.\n",
    "\n",
    "Based on how we create this scoring, there are following methods:\n",
    "\n",
    "1. **CountVectorizer**: CountVectorizer works on Terms Frequency, i.e. counting the occurrences of tokens and building a sparse matrix of documents x tokens.\n",
    "2. **TfIdfVectorizer**: We will cover next\n",
    "\n",
    "For now, let's apply count vectorizer to see how well we can predict author of the article."
   ]
  },
  {
   "cell_type": "code",
   "execution_count": 63,
   "metadata": {
    "collapsed": true
   },
   "outputs": [],
   "source": [
    "# import and instantiate CountVectorizer (with the default parameters)\n",
    "from sklearn.feature_extraction.text import CountVectorizer, TfidfVectorizer\n",
    "vect = CountVectorizer()"
   ]
  },
  {
   "cell_type": "code",
   "execution_count": 64,
   "metadata": {},
   "outputs": [
    {
     "data": {
      "text/plain": [
       "CountVectorizer(analyzer=u'word', binary=False, decode_error=u'strict',\n",
       "        dtype=<type 'numpy.int64'>, encoding=u'utf-8', input=u'content',\n",
       "        lowercase=True, max_df=1.0, max_features=None, min_df=1,\n",
       "        ngram_range=(1, 1), preprocessor=None, stop_words=None,\n",
       "        strip_accents=None, token_pattern=u'(?u)\\\\b\\\\w\\\\w+\\\\b',\n",
       "        tokenizer=None, vocabulary=None)"
      ]
     },
     "execution_count": 64,
     "metadata": {},
     "output_type": "execute_result"
    }
   ],
   "source": [
    "vect"
   ]
  },
  {
   "cell_type": "markdown",
   "metadata": {},
   "source": [
    "So here we can all sort of parameters this vectorizer takes. tokenizer, stop words, encoding, lower case etc. We can tune parameters based over our data set and kind of problem we are trying to solve."
   ]
  },
  {
   "cell_type": "code",
   "execution_count": 65,
   "metadata": {},
   "outputs": [
    {
     "data": {
      "text/plain": [
       "CountVectorizer(analyzer=u'word', binary=False, decode_error=u'strict',\n",
       "        dtype=<type 'numpy.int64'>, encoding=u'utf-8', input=u'content',\n",
       "        lowercase=True, max_df=0.5, max_features=None, min_df=2,\n",
       "        ngram_range=(1, 2), preprocessor=None, stop_words='english',\n",
       "        strip_accents=None, token_pattern=u'(?u)\\\\b\\\\w\\\\w+\\\\b',\n",
       "        tokenizer=<bound method TreebankWordTokenizer.tokenize of <nltk.tokenize.treebank.TreebankWordTokenizer object at 0x1159a6110>>,\n",
       "        vocabulary=None)"
      ]
     },
     "execution_count": 65,
     "metadata": {},
     "output_type": "execute_result"
    }
   ],
   "source": [
    "# use TreeankWordTokenizer\n",
    "from nltk.tokenize import TreebankWordTokenizer\n",
    "tokenizer = TreebankWordTokenizer()\n",
    "vect.set_params(tokenizer=tokenizer.tokenize)\n",
    "\n",
    "# remove English stop words\n",
    "vect.set_params(stop_words='english')\n",
    "\n",
    "# include 1-grams and 2-grams\n",
    "vect.set_params(ngram_range=(1, 2))\n",
    "\n",
    "# ignore terms that appear in more than 50% of the documents\n",
    "vect.set_params(max_df=0.5)\n",
    "\n",
    "# only keep terms that appear in at least 2 documents\n",
    "vect.set_params(min_df=2)"
   ]
  },
  {
   "cell_type": "markdown",
   "metadata": {},
   "source": [
    "**Note:** vect takes data as rows of text. Hence, we will have to get X_train in that format.\n",
    "So our dataset is not a csv and its a file structure based data. So we have to traverse through files and create a data frame of training data and its labeles, as below. "
   ]
  },
  {
   "cell_type": "markdown",
   "metadata": {},
   "source": [
    "Let's start by importing necessary information."
   ]
  },
  {
   "cell_type": "code",
   "execution_count": 66,
   "metadata": {
    "collapsed": true
   },
   "outputs": [],
   "source": [
    "import os\n",
    "import numpy as np\n",
    "trainX =np.array([])\n",
    "labels = []\n",
    "path = '../data/C50train/'\n",
    "authors = os.listdir(path)[:10]; "
   ]
  },
  {
   "cell_type": "markdown",
   "metadata": {},
   "source": [
    "Next, we separate out the X and y component from each document. Note that we have replaced new line character (considered as a stop word) with white space."
   ]
  },
  {
   "cell_type": "code",
   "execution_count": 67,
   "metadata": {},
   "outputs": [],
   "source": [
    "for auth in authors:\n",
    "    files = os.listdir(path + auth + '/');\n",
    "    tmpX, tmpY = np.array([]), []\n",
    "    for file in files:\n",
    "        f = open(path + auth + '/' + file, 'r')\n",
    "        data = f.read().replace('\\n', ' ')\n",
    "        tmpX = np.append(tmpX,data)\n",
    "        tmpY = tmpY + [auth]\n",
    "        f.close()\n",
    "    trainX = np.append(trainX, tmpX)\n",
    "    labels = labels + tmpY \n",
    "# print trainX\n",
    "# print labels"
   ]
  },
  {
   "cell_type": "markdown",
   "metadata": {},
   "source": [
    "Below are the first elements from X and y"
   ]
  },
  {
   "cell_type": "code",
   "execution_count": 68,
   "metadata": {},
   "outputs": [
    {
     "name": "stdout",
     "output_type": "stream",
     "text": [
      "Drugstore giant Revco D.S. Inc. said Monday it agreed to buy regional chain Big B Inc. in a sweetened takeover valued at $380 million. The transaction calls for Twinsburg, Ohio-based Revco to buy all outstanding shares of Big B common stock for $17.25 per share, up from Revco's unsolicited offer of $15 per share, which Big B rejected last month. \"We are very excited about the combination of Revco and Big B. I am pleased we were able to bring this process to a fast and successful conclusion,\" said Dwayne Hoven, president and chief executive officer of Revco. The deal will combine the nation's second- and 10th-largest drug store chains. The companies said Big B's board of directors unanimously approved the latest offer and recommended that Big B shareholders tender their shares. The sale of Bessemer, Ala.-based Big B marks the latest acquisition in the rapidly consolidating drugstore industry. Rite Aid Corp. signed an agreement this month to buy West Coast chain Thrifty PayLess Inc. for $1.4 billion, and Thrift Drug Inc., a unit of J.C. Penney Co. Inc., agreed in August to buy Fay's Inc. for about $285 million. Although Big B rejected the initial offer, its stock recently had been trading at about $16 per share on views that the company would be sold for more than Revco's original $15 per share offer. Revco's stock traded up 12.5 cents at $29.50 a share on the New York Stock Exchange. Big B's shares were at $17, up 43.75 cents, in afternoon trading on Nasdaq. \"With Revco's financial resources, technological expertise and marketing and sales capability, we can together grow our combined company's customer base and increase our sales potential. Among other efficiencies, this combination will allow the combined company to spread costs over a larger base of stores,\" Hoven said. Big B said it will work with Revco to ensure a smooth transition. Like many other regional drugstore chains, Big B has been fighting problems that have accompanied the burgeoning clout of managed health care companies and huge discount retailers. It has been hurt by deteriorating profit margins and sales and its earnings have disappointed Wall Street. Industry experts say Revco is well-placed to capture profits in the Southeast by taking advantage of Big B's underused distribution centre and closing overlapping stores in Georgia. \"Revco will be able to integrate Big B really quickly,\" said Eric Bosshard of Midwest Research-Maxus Group. Big B's profit margins began to tumble last year due to difficulty in calculating the impact of lower prescription prices paid by managed care providers. Although it invested heaviliy in a new computer system to better track profit margins, people familiar with the company have said its newly expanded distribution centre is operating at only 60 percent of capacity. Analysts said one of Revco's first steps will be to assess store overlap, especially in Georgia, where Revco operates 180 stores and Big B has 160 stores. \"Once they get the distribution and the stores together, it will be a real profit centre for Revco,\" said John Strauss, of investment advisory firm Strauss Financial Group. Revco also said it will revise and extend its tender offer for Big B shares until Nov 15. The offer had been set to expire Monday. The two companies also said all litigation between them will be withdrawn. After some haggling about terms, Revco earlier this month signed a confidentiality agreement with Big B, took a peek at its books and apparently liked what it saw. The Big B board met over the weekend and accepted the new and higher offer from Revco. Details of other offers were not immediately known, although Eckerd Corp. was viewed as a potential bidder. Eckerd declined to comment. Big B, Inc. operates 397 units throughout the Southeastern United States. Revco operates 2,202 stores in 14 contiguous Midwestern, Southeastern and Eastern states. The deal with Big B was seen as a significant acquisition for Revco, which earlier this year was involved in a failed transaction with Rite Aid. The two companies had signed a pact for Rite Aid to buy Revco for $1.8 billion, but the deal collapsed after regulators expressed concern that the union would raise consumer prices. \n"
     ]
    }
   ],
   "source": [
    "print trainX[0]"
   ]
  },
  {
   "cell_type": "code",
   "execution_count": 69,
   "metadata": {},
   "outputs": [
    {
     "name": "stdout",
     "output_type": "stream",
     "text": [
      "RobinSidel\n"
     ]
    }
   ],
   "source": [
    "print labels[0]"
   ]
  },
  {
   "cell_type": "markdown",
   "metadata": {},
   "source": [
    "Now let's separate out Train and test sets"
   ]
  },
  {
   "cell_type": "code",
   "execution_count": 70,
   "metadata": {},
   "outputs": [
    {
     "data": {
      "text/plain": [
       "'Talks aimed at averting a Chinese ban on imports of United States poultry have been hailed as a success by U.S. officials, who said on Friday they expected the issue to vanish without any disruption to a major market. A Chinese ban on imports of poultry and poultry products from 10 U.S. states, worth nearly US$500 million a year, was now unlikely to be implemented, official U.S. sources said. \"I\\'m optimistic that the issue has been resolved,\" a U.S. diplomat in Beijing said by telephone. \"Hopefully, this thing will now be dropped. I\\'m not expecting any correspondence or a list -- sometimes no news is good news,\" he said, speaking on condition of anonymity. A two-man team from Washington\\'s Animal and Plant Health Inspection Service (APHIS) spent two days in meetings with China\\'s Administration of Animal and Plant Quarantine (CAPQ) and scientists from other government departments and universities. The aim of the talks was to convince CAPQ that U.S. poultry does not carry a virus called highly pathogenic avian influenza (HPAI), contrary to Chinese fears that led to the ban. \"We are hopeful this issue has been resolved,\" said Ray Miyamoto, the APHIS area director in Beijing. \"We feel their (CAPQ\\'s) primary concerns were adequately addressed.\" Miyamoto added that CAPQ planned to write a report that may or may not be made available to APHIS. The meetings ended on Thursday. CAPQ was not immediately available for comment. U.S. sources described the talks as \"frank, open and candid\" and said they augured well for other discussions slated for November on plant quarantine issues. Wheat, however, remains shrouded in politics. Washington claims a Chinese ban on accepting wheat from specific U.S. areas because it cannot be guaranteed free of a fungus called TCK smut is, in effect, a non-tariff trade barrier. A top-level Chinese delegation is due to leave for the United States this weekend for a two-week TCK fact-finding trip. The poultry ban came to light on October 10 after U.S. chicken meat imports were blocked. CAPQ confirmed it to U.S. Embassy officials in Beijing the next day in a telephone call. Nothing was ever received in writing from CAPQ, a source at the embassy said on Friday, and the ban was not implemented as CAPQ wanted first to hear what the U.S. experts had to say. What the experts said, according to sources close to the meetings, was that HPAI, while widespread in wildfowl, was eradicated from commercial U.S. flocks in the mid-1980s. The U.S. side seemed convinced that CAPQ had confused HPAI with the less-virulent avian influenza, or AI, which an APHIS source likened to the common cold. Another U.S. source said the Chinese fears had been fuelled during a visit to Texas by CAPQ personnel to check on ostrich breeding stock destined for farms in southern China. A number of birds there tested positive for HPAI, the source said, though this did not necessarily mean they were afflicted with the virus. China is the second-biggest market in the world, after Russia, for U.S. poultry products and its only market for chicken feet. U.S. poultry exports to China in 1995 totalled 330,000 tonnes trans-shipped through Hong Kong alone, worth US$445 million, according to the U.S. Poultry and Egg Export Council. The council\\'s representative in Hong Kong, Sarah Li, told Reuters about 700 tonnes of U.S. chicken feet are transported across the border from Hong Kong into China every day. -- Hong Kong News Room (852) 2843 6470 '"
      ]
     },
     "execution_count": 70,
     "metadata": {},
     "output_type": "execute_result"
    }
   ],
   "source": [
    "from sklearn.model_selection import train_test_split\n",
    "X_train, X_test, y_train, y_test = train_test_split(trainX, labels, train_size = 0.8)\n",
    "\n",
    "X_train[1]"
   ]
  },
  {
   "cell_type": "markdown",
   "metadata": {},
   "source": [
    "Now we take the features, which are in list format and convert them into pandas series so that various operations can be carried out easily."
   ]
  },
  {
   "cell_type": "code",
   "execution_count": 71,
   "metadata": {},
   "outputs": [
    {
     "data": {
      "text/plain": [
       "0    Russia's aluminium industry has roared back to...\n",
       "1    Talks aimed at averting a Chinese ban on impor...\n",
       "2    Britain's fraud watchdog, the Serious Fraud Of...\n",
       "3    Stagecoach, the British bus and rail group whi...\n",
       "4    Fears China has been cancelling soybean and so...\n",
       "dtype: object"
      ]
     },
     "execution_count": 71,
     "metadata": {},
     "output_type": "execute_result"
    }
   ],
   "source": [
    "import pandas as pd\n",
    "X_train = pd.Series(X_train)\n",
    "X_test = pd.Series(X_test)\n",
    "\n",
    "X_train.head()"
   ]
  },
  {
   "cell_type": "markdown",
   "metadata": {},
   "source": [
    "Now, let's fit the vectorization pipeline that we defined earlier."
   ]
  },
  {
   "cell_type": "code",
   "execution_count": 72,
   "metadata": {
    "scrolled": true
   },
   "outputs": [
    {
     "data": {
      "text/plain": [
       "[u'!',\n",
       " u'! consumer',\n",
       " u'! online',\n",
       " u'$ /tonne',\n",
       " u'$ 0.04',\n",
       " u'$ 0.10',\n",
       " u'$ 0.20',\n",
       " u'$ 0.42',\n",
       " u'$ 1',\n",
       " u'$ 1,250',\n",
       " u'$ 1,305',\n",
       " u'$ 1,800',\n",
       " u'$ 1,942/45',\n",
       " u'$ 1.1',\n",
       " u'$ 1.125',\n",
       " u'$ 1.2',\n",
       " u'$ 1.23',\n",
       " u'$ 1.25',\n",
       " u'$ 1.27',\n",
       " u'$ 1.3',\n",
       " u'$ 1.32',\n",
       " u'$ 1.375',\n",
       " u'$ 1.38',\n",
       " u'$ 1.4',\n",
       " u'$ 1.5',\n",
       " u'$ 1.50',\n",
       " u'$ 1.56',\n",
       " u'$ 1.7',\n",
       " u'$ 1.75',\n",
       " u'$ 1.8',\n",
       " u'$ 1.875',\n",
       " u'$ 10',\n",
       " u'$ 100',\n",
       " u'$ 100,000',\n",
       " u'$ 100-per-share',\n",
       " u'$ 11.1',\n",
       " u'$ 110',\n",
       " u'$ 111.125',\n",
       " u'$ 117',\n",
       " u'$ 12',\n",
       " u'$ 12.50',\n",
       " u'$ 120',\n",
       " u'$ 122.50',\n",
       " u'$ 130.',\n",
       " u'$ 14',\n",
       " u'$ 145',\n",
       " u'$ 15',\n",
       " u'$ 15.625',\n",
       " u'$ 150',\n",
       " u'$ 156.25']"
      ]
     },
     "execution_count": 72,
     "metadata": {},
     "output_type": "execute_result"
    }
   ],
   "source": [
    "# learn the 'vocabulary' of the training data\n",
    "vect.fit(X_train)\n",
    "\n",
    "# examine the fitted vocabulary\n",
    "vect.get_feature_names()[:50]"
   ]
  },
  {
   "cell_type": "markdown",
   "metadata": {},
   "source": [
    "We can see that there some scope for better feature engineering\n",
    "* \"!\" and \"$\" are appearing along with the numbers\n",
    "* numbers can be clubbed into a single category and can be tagged as numbers (e.g. ####)\n",
    "* Dates, Times can be tagged\n",
    "\n",
    "There are many more things that can be done. But for now let's move on.\n",
    "\n",
    "Next, we transform training data into a 'document-term matrix'"
   ]
  },
  {
   "cell_type": "code",
   "execution_count": 45,
   "metadata": {},
   "outputs": [
    {
     "data": {
      "text/plain": [
       "<400x27459 sparse matrix of type '<type 'numpy.int64'>'\n",
       "\twith 129354 stored elements in Compressed Sparse Row format>"
      ]
     },
     "execution_count": 45,
     "metadata": {},
     "output_type": "execute_result"
    }
   ],
   "source": [
    "train_vectors = vect.transform(X_train)\n",
    "train_vectors"
   ]
  },
  {
   "cell_type": "code",
   "execution_count": 46,
   "metadata": {},
   "outputs": [
    {
     "data": {
      "text/plain": [
       "<100x27459 sparse matrix of type '<type 'numpy.int64'>'\n",
       "\twith 25476 stored elements in Compressed Sparse Row format>"
      ]
     },
     "execution_count": 46,
     "metadata": {},
     "output_type": "execute_result"
    }
   ],
   "source": [
    "test_vectors = vect.transform(X_test)\n",
    "test_vectors"
   ]
  },
  {
   "cell_type": "markdown",
   "metadata": {},
   "source": [
    "Next, we examine the vocabulary and document-term matrix together"
   ]
  },
  {
   "cell_type": "code",
   "execution_count": 53,
   "metadata": {
    "scrolled": true
   },
   "outputs": [
    {
     "data": {
      "text/html": [
       "<div>\n",
       "<style>\n",
       "    .dataframe thead tr:only-child th {\n",
       "        text-align: right;\n",
       "    }\n",
       "\n",
       "    .dataframe thead th {\n",
       "        text-align: left;\n",
       "    }\n",
       "\n",
       "    .dataframe tbody tr th {\n",
       "        vertical-align: top;\n",
       "    }\n",
       "</style>\n",
       "<table border=\"1\" class=\"dataframe\">\n",
       "  <thead>\n",
       "    <tr style=\"text-align: right;\">\n",
       "      <th></th>\n",
       "      <th>!</th>\n",
       "      <th>! consumer</th>\n",
       "      <th>! online</th>\n",
       "      <th>$ /tonne</th>\n",
       "      <th>$ 0.10</th>\n",
       "      <th>$ 0.19</th>\n",
       "      <th>$ 0.20</th>\n",
       "      <th>$ 0.48</th>\n",
       "      <th>$ 0.90</th>\n",
       "      <th>$ 1</th>\n",
       "      <th>...</th>\n",
       "      <th>zealand</th>\n",
       "      <th>zenit</th>\n",
       "      <th>zenit rockets</th>\n",
       "      <th>zero</th>\n",
       "      <th>zhu</th>\n",
       "      <th>zhu rongji</th>\n",
       "      <th>zinc</th>\n",
       "      <th>zinc (</th>\n",
       "      <th>zinc liquidated</th>\n",
       "      <th>zone</th>\n",
       "    </tr>\n",
       "  </thead>\n",
       "  <tbody>\n",
       "    <tr>\n",
       "      <th>0</th>\n",
       "      <td>0</td>\n",
       "      <td>0</td>\n",
       "      <td>0</td>\n",
       "      <td>0</td>\n",
       "      <td>0</td>\n",
       "      <td>0</td>\n",
       "      <td>0</td>\n",
       "      <td>0</td>\n",
       "      <td>0</td>\n",
       "      <td>0</td>\n",
       "      <td>...</td>\n",
       "      <td>0</td>\n",
       "      <td>0</td>\n",
       "      <td>0</td>\n",
       "      <td>0</td>\n",
       "      <td>0</td>\n",
       "      <td>0</td>\n",
       "      <td>0</td>\n",
       "      <td>0</td>\n",
       "      <td>0</td>\n",
       "      <td>0</td>\n",
       "    </tr>\n",
       "    <tr>\n",
       "      <th>1</th>\n",
       "      <td>0</td>\n",
       "      <td>0</td>\n",
       "      <td>0</td>\n",
       "      <td>0</td>\n",
       "      <td>0</td>\n",
       "      <td>0</td>\n",
       "      <td>0</td>\n",
       "      <td>0</td>\n",
       "      <td>0</td>\n",
       "      <td>0</td>\n",
       "      <td>...</td>\n",
       "      <td>0</td>\n",
       "      <td>0</td>\n",
       "      <td>0</td>\n",
       "      <td>0</td>\n",
       "      <td>0</td>\n",
       "      <td>0</td>\n",
       "      <td>0</td>\n",
       "      <td>0</td>\n",
       "      <td>0</td>\n",
       "      <td>0</td>\n",
       "    </tr>\n",
       "    <tr>\n",
       "      <th>2</th>\n",
       "      <td>0</td>\n",
       "      <td>0</td>\n",
       "      <td>0</td>\n",
       "      <td>0</td>\n",
       "      <td>0</td>\n",
       "      <td>0</td>\n",
       "      <td>0</td>\n",
       "      <td>0</td>\n",
       "      <td>0</td>\n",
       "      <td>0</td>\n",
       "      <td>...</td>\n",
       "      <td>0</td>\n",
       "      <td>0</td>\n",
       "      <td>0</td>\n",
       "      <td>0</td>\n",
       "      <td>0</td>\n",
       "      <td>0</td>\n",
       "      <td>0</td>\n",
       "      <td>0</td>\n",
       "      <td>0</td>\n",
       "      <td>0</td>\n",
       "    </tr>\n",
       "    <tr>\n",
       "      <th>3</th>\n",
       "      <td>0</td>\n",
       "      <td>0</td>\n",
       "      <td>0</td>\n",
       "      <td>0</td>\n",
       "      <td>0</td>\n",
       "      <td>0</td>\n",
       "      <td>0</td>\n",
       "      <td>0</td>\n",
       "      <td>0</td>\n",
       "      <td>0</td>\n",
       "      <td>...</td>\n",
       "      <td>0</td>\n",
       "      <td>0</td>\n",
       "      <td>0</td>\n",
       "      <td>0</td>\n",
       "      <td>0</td>\n",
       "      <td>0</td>\n",
       "      <td>0</td>\n",
       "      <td>0</td>\n",
       "      <td>0</td>\n",
       "      <td>0</td>\n",
       "    </tr>\n",
       "  </tbody>\n",
       "</table>\n",
       "<p>4 rows × 27459 columns</p>\n",
       "</div>"
      ],
      "text/plain": [
       "   !  ! consumer  ! online  $ /tonne  $ 0.10  $ 0.19  $ 0.20  $ 0.48  $ 0.90  \\\n",
       "0  0           0         0         0       0       0       0       0       0   \n",
       "1  0           0         0         0       0       0       0       0       0   \n",
       "2  0           0         0         0       0       0       0       0       0   \n",
       "3  0           0         0         0       0       0       0       0       0   \n",
       "\n",
       "   $ 1  ...   zealand  zenit  zenit rockets  zero  zhu  zhu rongji  zinc  \\\n",
       "0    0  ...         0      0              0     0    0           0     0   \n",
       "1    0  ...         0      0              0     0    0           0     0   \n",
       "2    0  ...         0      0              0     0    0           0     0   \n",
       "3    0  ...         0      0              0     0    0           0     0   \n",
       "\n",
       "   zinc (  zinc liquidated  zone  \n",
       "0       0                0     0  \n",
       "1       0                0     0  \n",
       "2       0                0     0  \n",
       "3       0                0     0  \n",
       "\n",
       "[4 rows x 27459 columns]"
      ]
     },
     "execution_count": 53,
     "metadata": {},
     "output_type": "execute_result"
    }
   ],
   "source": [
    "pd.DataFrame(train_vectors.toarray(), columns=vect.get_feature_names()).head(4)"
   ]
  },
  {
   "cell_type": "markdown",
   "metadata": {},
   "source": [
    "As you can see, there are 27459 columns which are there. Most of them are going to sparse."
   ]
  },
  {
   "cell_type": "markdown",
   "metadata": {
    "collapsed": true
   },
   "source": [
    "## Lets Build our Model\n",
    "\n",
    "We are going to use Naive Baysian model here as they are very effective at text classification."
   ]
  },
  {
   "cell_type": "code",
   "execution_count": 56,
   "metadata": {},
   "outputs": [
    {
     "data": {
      "text/html": [
       "<iframe width=\"560\" height=\"315\" src=\"https://www.youtube.com/embed/8yvBqhm92xA\" frameborder=\"0\" allowfullscreen></iframe>"
      ],
      "text/plain": [
       "<IPython.core.display.HTML object>"
      ]
     },
     "execution_count": 56,
     "metadata": {},
     "output_type": "execute_result"
    }
   ],
   "source": [
    "from IPython.display import HTML\n",
    "HTML('<iframe width=\"560\" height=\"315\" src=\"https://www.youtube.com/embed/8yvBqhm92xA\" frameborder=\"0\" allowfullscreen></iframe>')"
   ]
  },
  {
   "cell_type": "markdown",
   "metadata": {},
   "source": [
    "You can read more about bayesian algorithms at: \n",
    "\n",
    "* [Wikipedia](https://en.wikipedia.org/wiki/Naive_Bayes_classifier)\n",
    "* [Resource](https://www.cs.toronto.edu/~urtasun/courses/CSC411/tutorial4.pdf)"
   ]
  },
  {
   "cell_type": "code",
   "execution_count": 57,
   "metadata": {
    "collapsed": true
   },
   "outputs": [],
   "source": [
    "from sklearn.naive_bayes import GaussianNB, MultinomialNB, BernoulliNB\n",
    "nb = GaussianNB()"
   ]
  },
  {
   "cell_type": "code",
   "execution_count": 58,
   "metadata": {},
   "outputs": [
    {
     "data": {
      "text/plain": [
       "GaussianNB(priors=None)"
      ]
     },
     "execution_count": 58,
     "metadata": {},
     "output_type": "execute_result"
    }
   ],
   "source": [
    "nb.fit(train_vectors.toarray(), y_train)"
   ]
  },
  {
   "cell_type": "code",
   "execution_count": 61,
   "metadata": {},
   "outputs": [
    {
     "name": "stdout",
     "output_type": "stream",
     "text": [
      "                   precision    recall  f1-score   support\n",
      "\n",
      "    AaronPressman       0.75      0.67      0.71         9\n",
      "    EdnaFernandes       0.67      0.29      0.40         7\n",
      "      EricAuchard       0.59      0.87      0.70        15\n",
      "         JoeOrtiz       0.58      0.88      0.70         8\n",
      "KouroshKarimkhany       0.89      0.73      0.80        11\n",
      "   LynneO'Donnell       0.90      1.00      0.95         9\n",
      "  LynnleyBrowning       0.77      1.00      0.87        10\n",
      "    MichaelConnor       0.80      0.67      0.73        12\n",
      "       RobinSidel       0.83      0.50      0.62        10\n",
      "      SimonCowell       0.71      0.56      0.63         9\n",
      "\n",
      "      avg / total       0.75      0.73      0.72       100\n",
      "\n",
      "ACCURACY:: 0.73\n"
     ]
    }
   ],
   "source": [
    "from sklearn.metrics.classification import classification_report, accuracy_score\n",
    "from sklearn.cross_validation import cross_val_predict\n",
    "\n",
    "# generate your cross-validation prediction with 10 fold Stratified sampling\n",
    "y_pred = cross_val_predict(nb, test_vectors.toarray(), y_test, cv=10)\n",
    "\n",
    "print(classification_report(y_test, y_pred))\n",
    "print \"ACCURACY::\", accuracy_score(y_pred, y_test)"
   ]
  },
  {
   "cell_type": "markdown",
   "metadata": {},
   "source": [
    "As we can see, even with limited amount of feature engineering, we are getting really good results. Better feature engineering will result in better results."
   ]
  },
  {
   "cell_type": "markdown",
   "metadata": {},
   "source": [
    "## Model Building Using TF-IDF Vectorizer:\n",
    "\n",
    "* Tf-idf vectorizer is most famous and most widely used vectoirzer in NLP. \n",
    "* Tf-idf stands for term frequency-inverse document frequency, \n",
    "* Tf-idf weight is a statistical measure used to evaluate how important a word is to a document in a collection or corpus. \n",
    "* The importance increases proportionally to the number of times a word appears in the document but is offset by the frequency of the word in the corpus."
   ]
  },
  {
   "cell_type": "markdown",
   "metadata": {},
   "source": [
    "## Model Building Using TF-IDF Vectorizer:\n",
    "\n",
    "Typically, the tf-idf weight is composed by two terms: \n",
    "* the first computes the normalized Term Frequency (TF), aka. the number of times a word appears in a document, divided by the total number of words in that document; \n",
    "* the second term is the Inverse Document Frequency (IDF), computed as the logarithm of the number of the documents in the corpus divided by the number of documents where the specific term appears."
   ]
  },
  {
   "cell_type": "markdown",
   "metadata": {},
   "source": [
    "* **TF: Term Frequency**, which measures how frequently a term occurs in a document. Since every document is different in length, it is possible that a term would appear much more times in long documents than shorter ones. Thus, the term frequency is often divided by the document length (aka. the total number of terms in the document) as a way of normalization: \n",
    "\n",
    "$$TF(t) = \\frac{Number\\ of\\ times\\ term\\ t\\ appears\\ in\\ a\\ document} {Total\\ number\\ of\\ terms\\ in\\ the\\ document}$$"
   ]
  },
  {
   "cell_type": "markdown",
   "metadata": {},
   "source": [
    "* **IDF: Inverse Document Frequency,** which measures how important a term is. While computing TF, all terms are considered equally important. However it is known that certain terms, such as \"is\", \"of\", and \"that\", may appear a lot of times but have little importance. Thus we need to weigh down the frequent terms while scale up the rare ones, by computing the following: \n",
    "\n",
    "$$IDF(t) = log_e(\\frac{Total\\ number\\ of\\ documents} {Number\\ of\\ documents\\ with\\ term\\ t\\ in\\ it})$$\n",
    "\n",
    "Typically, IDF is a measure of how rare a term is. Rarer the term, more is the IDF score."
   ]
  },
  {
   "cell_type": "markdown",
   "metadata": {},
   "source": [
    "$$Tf-TDF score = TF * IDF$$"
   ]
  },
  {
   "cell_type": "code",
   "execution_count": 73,
   "metadata": {},
   "outputs": [
    {
     "data": {
      "text/plain": [
       "TfidfVectorizer(analyzer=u'word', binary=False, decode_error=u'strict',\n",
       "        dtype=<type 'numpy.int64'>, encoding=u'utf-8', input=u'content',\n",
       "        lowercase=True, max_df=1.0, max_features=None, min_df=5,\n",
       "        ngram_range=(1, 1), norm=u'l2', preprocessor=None, smooth_idf=True,\n",
       "        stop_words=None, strip_accents=None, sublinear_tf=False,\n",
       "        token_pattern=u'(?u)\\\\b\\\\w\\\\w+\\\\b', tokenizer=None, use_idf=True,\n",
       "        vocabulary=None)"
      ]
     },
     "execution_count": 73,
     "metadata": {},
     "output_type": "execute_result"
    }
   ],
   "source": [
    "# import and instantiate TfidfVectorizer (with the default parameters)\n",
    "from sklearn.feature_extraction.text import TfidfVectorizer\n",
    "vect = TfidfVectorizer()\n",
    "vect.set_params(tokenizer=tokenizer.tokenize)\n",
    "\n",
    "# remove English stop words\n",
    "vect.set_params(stop_words='english')\n",
    "\n",
    "# include 1-grams and 2-grams\n",
    "vect.set_params(ngram_range=(1, 2))\n",
    "\n",
    "# ignore terms that appear in more than 50% of the documents\n",
    "vect.set_params(max_df=0.5)\n",
    "\n",
    "# only keep terms that appear in at least 2 documents\n",
    "vect.set_params(min_df=2)"
   ]
  },
  {
   "cell_type": "code",
   "execution_count": 86,
   "metadata": {},
   "outputs": [],
   "source": [
    "# train_vectors = vect.fit_transform(X_train)\n",
    "# train_vectors"
   ]
  },
  {
   "cell_type": "markdown",
   "metadata": {},
   "source": [
    "### Lets Build our Model"
   ]
  },
  {
   "cell_type": "code",
   "execution_count": 85,
   "metadata": {},
   "outputs": [],
   "source": [
    "# from sklearn.naive_bayes import GaussianNB, MultinomialNB, BernoulliNB\n",
    "# nb=GaussianNB()\n",
    "# nb.fit(train_vectors.toarray(), y_train)"
   ]
  },
  {
   "cell_type": "markdown",
   "metadata": {},
   "source": [
    "### Lets Analyze performance"
   ]
  },
  {
   "cell_type": "code",
   "execution_count": 84,
   "metadata": {},
   "outputs": [],
   "source": [
    "# generate your cross-validation prediction with 10 fold Stratified sampling\n",
    "# y_pred = cross_val_predict(nb, test_vectors.toarray(), y_test, cv=10)\n",
    "\n",
    "# print(classification_report(y_test, y_pred))\n",
    "# print \"ACCURACY::\",accuracy_score(y_pred,y_test)"
   ]
  },
  {
   "cell_type": "markdown",
   "metadata": {},
   "source": [
    "## Applications of Bag-of-Words\n",
    "\n",
    "The bag-of-words model is very simple to understand and implement and offers a lot of flexibility for customization on your specific text data.\n",
    "\n",
    "It has been used with great success on prediction problems like \n",
    "\n",
    "* Language modeling\n",
    "* Documentation classification\n",
    "* Recommender Systems\n",
    "* Clustering"
   ]
  },
  {
   "cell_type": "markdown",
   "metadata": {},
   "source": [
    "## Limitations of Bag-of-Words approach\n",
    "\n",
    "Nevertheless, it suffers from some shortcomings, such as:\n",
    "\n",
    "* **Meaning**: Discarding word order ignores the context, and in turn meaning of words in the document (semantics). Context and meaning can offer a lot to the model, that if modeled could tell the difference between the same words differently arranged (“this is interesting” vs “is this interesting”), synonyms (“old bike” vs “used bike”), and much more.\n",
    "* **Vocabulary**: The vocabulary requires careful design, most specifically in order to manage the size, which impacts the sparsity of the document representations.\n",
    "* **Sparsity**: Sparse representations are harder to model both for computational reasons (space and time complexity) and also for information reasons, where the challenge is for the models to harness so little information in such a large representational space."
   ]
  },
  {
   "cell_type": "markdown",
   "metadata": {
    "collapsed": true
   },
   "source": [
    "# In-session Recap Time\n",
    "***\n",
    "- Sentence Decomposition\n",
    "- Tokenization\n",
    "- Stop word removal\n",
    "- Word Cloud\n",
    "- Vectorization\n",
    "- Text Classification\n",
    "\n",
    "# Thank You\n",
    "***\n",
    "### Coming up next - NLP 102\n",
    "\n",
    "For more queries - Reach out to academics@greyatom.com "
   ]
  }
 ],
 "metadata": {
  "celltoolbar": "Slideshow",
  "kernelspec": {
   "display_name": "Python 2",
   "language": "python",
   "name": "python2"
  },
  "language_info": {
   "codemirror_mode": {
    "name": "ipython",
    "version": 2
   },
   "file_extension": ".py",
   "mimetype": "text/x-python",
   "name": "python",
   "nbconvert_exporter": "python",
   "pygments_lexer": "ipython2",
   "version": "2.7.13"
  }
 },
 "nbformat": 4,
 "nbformat_minor": 2
}
